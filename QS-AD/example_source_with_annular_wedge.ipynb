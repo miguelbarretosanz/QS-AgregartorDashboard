{
 "cells": [
  {
   "cell_type": "code",
   "execution_count": 63,
   "metadata": {},
   "outputs": [],
   "source": [
    "from bokeh.plotting import figure, show, ColumnDataSource\n",
    "from bokeh.models import HoverTool\n",
    "\n",
    "source = ColumnDataSource(data=dict(\n",
    "    inner_radius=[0.1,0.5,0.8],\n",
    "    outer_radius=[0.5,0.7,1],\n",
    "    start_angle=[0.0,1,2],\n",
    "    end_angle=[4.8,4.9,5],\n",
    "    color=[\"red\",\"pink\",\"yellow\"]\n",
    "))\n",
    "\n",
    "hover = HoverTool(tooltips=[\n",
    "    (\"index\", \"$index\"),\n",
    "    (\"(ir,or)\", \"(@inner_radius, @outer_radius)\"),\n",
    "    (\"color\", \"@color\"),\n",
    "])\n",
    "\n",
    "\n",
    "p = figure(width=700, height=700,tools=[hover])\n",
    "\n",
    "p.annular_wedge(x=0, y=0, inner_radius='inner_radius', outer_radius='outer_radius',\n",
    "                start_angle='start_angle', end_angle='end_angle', color='color', \n",
    "                alpha=0.6, hover_color=\"lightgrey\", source=source)\n",
    "\n",
    "show(p)"
   ]
  },
  {
   "cell_type": "code",
   "execution_count": 54,
   "metadata": {},
   "outputs": [
    {
     "data": {
      "text/plain": [
       "{'end_angle': [4.8, 4.9, 5],\n",
       " 'inner_radius': [0.1, 0.5, 0.8],\n",
       " 'outer_radius': [0.5, 0.7, 1],\n",
       " 'start_angle': [0.0, 1, 2]}"
      ]
     },
     "execution_count": 54,
     "metadata": {},
     "output_type": "execute_result"
    }
   ],
   "source": [
    "data=dict(inner_radius=[0.1,0.5,0.8], outer_radius=[0.5,0.7,1], start_angle=[0.0,1,2], end_angle=[4.8,4.9,5],)\n",
    "data"
   ]
  }
 ],
 "metadata": {
  "kernelspec": {
   "display_name": "Python 3",
   "language": "python",
   "name": "python3"
  },
  "language_info": {
   "codemirror_mode": {
    "name": "ipython",
    "version": 3
   },
   "file_extension": ".py",
   "mimetype": "text/x-python",
   "name": "python",
   "nbconvert_exporter": "python",
   "pygments_lexer": "ipython3",
   "version": "3.6.3"
  }
 },
 "nbformat": 4,
 "nbformat_minor": 2
}
