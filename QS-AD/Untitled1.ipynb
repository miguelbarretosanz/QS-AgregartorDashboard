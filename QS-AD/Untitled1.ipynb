{
 "cells": [
  {
   "cell_type": "code",
   "execution_count": 3,
   "metadata": {},
   "outputs": [
    {
     "ename": "AttributeError",
     "evalue": "unexpected attribute 'snap_to_data' to HoverTool, possible attributes are anchor, attachment, callback, formatters, js_event_callbacks, js_property_callbacks, line_policy, mode, name, names, point_policy, renderers, show_arrow, subscribed_events, tags, toggleable or tooltips",
     "output_type": "error",
     "traceback": [
      "\u001b[0;31m---------------------------------------------------------------------------\u001b[0m",
      "\u001b[0;31mAttributeError\u001b[0m                            Traceback (most recent call last)",
      "\u001b[0;32m<ipython-input-3-48832ea645e6>\u001b[0m in \u001b[0;36m<module>\u001b[0;34m()\u001b[0m\n\u001b[1;32m     43\u001b[0m \u001b[0mhover\u001b[0m \u001b[0;34m=\u001b[0m \u001b[0mplot\u001b[0m\u001b[0;34m.\u001b[0m\u001b[0mselect\u001b[0m\u001b[0;34m(\u001b[0m\u001b[0mdict\u001b[0m\u001b[0;34m(\u001b[0m\u001b[0mtype\u001b[0m\u001b[0;34m=\u001b[0m\u001b[0mHoverTool\u001b[0m\u001b[0;34m)\u001b[0m\u001b[0;34m)\u001b[0m\u001b[0;34m\u001b[0m\u001b[0m\n\u001b[1;32m     44\u001b[0m \u001b[0mhover\u001b[0m\u001b[0;34m.\u001b[0m\u001b[0mtooltips\u001b[0m \u001b[0;34m=\u001b[0m \u001b[0;34m[\u001b[0m\u001b[0;34m(\u001b[0m\u001b[0;34m\"index\"\u001b[0m\u001b[0;34m,\u001b[0m \u001b[0;34m\"$index\"\u001b[0m\u001b[0;34m)\u001b[0m\u001b[0;34m]\u001b[0m\u001b[0;34m\u001b[0m\u001b[0m\n\u001b[0;32m---> 45\u001b[0;31m \u001b[0mhover\u001b[0m\u001b[0;34m.\u001b[0m\u001b[0msnap_to_data\u001b[0m \u001b[0;34m=\u001b[0m \u001b[0;32mFalse\u001b[0m\u001b[0;34m\u001b[0m\u001b[0m\n\u001b[0m\u001b[1;32m     46\u001b[0m \u001b[0mbk\u001b[0m\u001b[0;34m.\u001b[0m\u001b[0mshow\u001b[0m\u001b[0;34m(\u001b[0m\u001b[0mplot\u001b[0m\u001b[0;34m)\u001b[0m\u001b[0;34m\u001b[0m\u001b[0m\n",
      "\u001b[0;32m~/anaconda3/lib/python3.6/site-packages/bokeh/util/plot_utils.py\u001b[0m in \u001b[0;36m__setattr__\u001b[0;34m(self, attr, value)\u001b[0m\n\u001b[1;32m      7\u001b[0m     \u001b[0;32mdef\u001b[0m \u001b[0m__setattr__\u001b[0m\u001b[0;34m(\u001b[0m\u001b[0mself\u001b[0m\u001b[0;34m,\u001b[0m \u001b[0mattr\u001b[0m\u001b[0;34m,\u001b[0m \u001b[0mvalue\u001b[0m\u001b[0;34m)\u001b[0m\u001b[0;34m:\u001b[0m\u001b[0;34m\u001b[0m\u001b[0m\n\u001b[1;32m      8\u001b[0m         \u001b[0;32mfor\u001b[0m \u001b[0mx\u001b[0m \u001b[0;32min\u001b[0m \u001b[0mself\u001b[0m\u001b[0;34m:\u001b[0m\u001b[0;34m\u001b[0m\u001b[0m\n\u001b[0;32m----> 9\u001b[0;31m             \u001b[0msetattr\u001b[0m\u001b[0;34m(\u001b[0m\u001b[0mx\u001b[0m\u001b[0;34m,\u001b[0m \u001b[0mattr\u001b[0m\u001b[0;34m,\u001b[0m \u001b[0mvalue\u001b[0m\u001b[0;34m)\u001b[0m\u001b[0;34m\u001b[0m\u001b[0m\n\u001b[0m\u001b[1;32m     10\u001b[0m \u001b[0;34m\u001b[0m\u001b[0m\n\u001b[1;32m     11\u001b[0m     \u001b[0;32mdef\u001b[0m \u001b[0m__dir__\u001b[0m\u001b[0;34m(\u001b[0m\u001b[0mself\u001b[0m\u001b[0;34m)\u001b[0m\u001b[0;34m:\u001b[0m\u001b[0;34m\u001b[0m\u001b[0m\n",
      "\u001b[0;32m~/anaconda3/lib/python3.6/site-packages/bokeh/core/has_props.py\u001b[0m in \u001b[0;36m__setattr__\u001b[0;34m(self, name, value)\u001b[0m\n\u001b[1;32m    270\u001b[0m \u001b[0;34m\u001b[0m\u001b[0m\n\u001b[1;32m    271\u001b[0m             raise AttributeError(\"unexpected attribute '%s' to %s, %s attributes are %s\" %\n\u001b[0;32m--> 272\u001b[0;31m                 (name, self.__class__.__name__, text, nice_join(matches)))\n\u001b[0m\u001b[1;32m    273\u001b[0m \u001b[0;34m\u001b[0m\u001b[0m\n\u001b[1;32m    274\u001b[0m     \u001b[0;32mdef\u001b[0m \u001b[0m__str__\u001b[0m\u001b[0;34m(\u001b[0m\u001b[0mself\u001b[0m\u001b[0;34m)\u001b[0m\u001b[0;34m:\u001b[0m\u001b[0;34m\u001b[0m\u001b[0m\n",
      "\u001b[0;31mAttributeError\u001b[0m: unexpected attribute 'snap_to_data' to HoverTool, possible attributes are anchor, attachment, callback, formatters, js_event_callbacks, js_property_callbacks, line_policy, mode, name, names, point_policy, renderers, show_arrow, subscribed_events, tags, toggleable or tooltips"
     ]
    }
   ],
   "source": [
    "import bokeh.plotting as bk\n",
    "import pandas as pd\n",
    "import math\n",
    "from bokeh.models import HoverTool, ColumnDataSource\n",
    "\n",
    "rad2deg = (180 / math.pi)\n",
    "deg2rad = 1 / rad2deg\n",
    "\n",
    "y_mins = [1] * 3\n",
    "y_maxes = [2] * 3\n",
    "start_angles = pd.Series([30, 45, 90])\n",
    "stop_angles = pd.Series([40, 80, 120])\n",
    "\n",
    "start_angles_2 = start_angles + 180\n",
    "stop_angles_2 = stop_angles + 180\n",
    "\n",
    "df = pd.DataFrame(\n",
    "                    {\n",
    "                        'x': 0,\n",
    "                        'y': 0,\n",
    "                        'ymin': y_mins, \n",
    "                        'ymax': y_maxes,\n",
    "                        'starts': start_angles * deg2rad,\n",
    "                        'stops': stop_angles * deg2rad\n",
    "                    }\n",
    "                )\n",
    "\n",
    "df_s = ColumnDataSource(df)\n",
    "TOOLS = \"pan,wheel_zoom,box_zoom,reset,hover\"\n",
    "bk.output_file(\"test.html\")\n",
    "plot = bk.figure(width=1000, height=1000, tools=TOOLS)\n",
    "\n",
    "plot.annular_wedge(x='x', y='y', \n",
    "                    inner_radius='ymin',\n",
    "                    outer_radius='ymax',\n",
    "                    start_angle='stops', # change to \"starts\"\n",
    "                    end_angle='starts', # change to \"stops\"\n",
    "                    direction=\"anticlock\", # change to \"anticlock\"...now it works\n",
    "                    source=df_s\n",
    "                    )\n",
    "\n",
    "\n",
    "hover = plot.select(dict(type=HoverTool))\n",
    "hover.tooltips = [(\"index\", \"$index\")]\n",
    "hover.snap_to_data = False\n",
    "bk.show(plot)"
   ]
  }
 ],
 "metadata": {
  "kernelspec": {
   "display_name": "Python 3",
   "language": "python",
   "name": "python3"
  },
  "language_info": {
   "codemirror_mode": {
    "name": "ipython",
    "version": 3
   },
   "file_extension": ".py",
   "mimetype": "text/x-python",
   "name": "python",
   "nbconvert_exporter": "python",
   "pygments_lexer": "ipython3",
   "version": "3.6.3"
  }
 },
 "nbformat": 4,
 "nbformat_minor": 2
}
