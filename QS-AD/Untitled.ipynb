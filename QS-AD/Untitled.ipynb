{
 "cells": [
  {
   "cell_type": "code",
   "execution_count": 2,
   "metadata": {},
   "outputs": [],
   "source": [
    "import bokeh.plotting as bk\n",
    "import pandas as pd\n",
    "import math\n",
    "from bokeh.models import HoverTool, ColumnDataSource\n",
    "\n",
    "rad2deg = (180 / math.pi)\n",
    "deg2rad = 1 / rad2deg\n",
    "\n",
    "y_mins = [1] * 3\n",
    "y_maxes = [2] * 3\n",
    "start_angles = pd.Series([30, 45, 90])\n",
    "stop_angles = pd.Series([40, 80, 120])\n",
    "\n",
    "start_angles_2 = start_angles + 180\n",
    "stop_angles_2 = stop_angles + 180\n",
    "\n",
    "df = pd.DataFrame(\n",
    "                    {\n",
    "                        'x': 0,\n",
    "                        'y': 0,\n",
    "                        'ymin': y_mins, \n",
    "                        'ymax': y_maxes,\n",
    "                        'starts': start_angles * deg2rad,\n",
    "                        'stops': stop_angles * deg2rad\n",
    "                    }\n",
    "                )\n",
    "\n",
    "df_s = ColumnDataSource(df)\n",
    "TOOLS = \"pan,wheel_zoom,box_zoom,reset,hover\"\n",
    "bk.output_file(\"test.html\")\n",
    "plot = bk.figure(width=1000, height=1000, tools=TOOLS)\n",
    "\n",
    "plot.annular_wedge(x='x', y='y', \n",
    "                    inner_radius='ymin',\n",
    "                    outer_radius='ymax',\n",
    "                    start_angle='stops', # change to \"starts\"\n",
    "                    end_angle='starts', # change to \"stops\"\n",
    "                    direction=\"clock\", # change to \"anticlock\"...now it works\n",
    "                    source=df_s\n",
    "                    )\n",
    "\n",
    "\n",
    "hover = plot.select(dict(type=HoverTool))\n",
    "hover.tooltips = [(\"index\", \"$index\")]\n",
    "hover.snap_to_data = False\n",
    "bk.show(plot)"
   ]
  }
 ],
 "metadata": {
  "kernelspec": {
   "display_name": "Python 3",
   "language": "python",
   "name": "python3"
  }
 },
 "nbformat": 4,
 "nbformat_minor": 2
}
